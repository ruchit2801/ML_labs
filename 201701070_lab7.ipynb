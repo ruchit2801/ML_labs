{
 "cells": [
  {
   "cell_type": "markdown",
   "metadata": {},
   "source": [
    "## Author : RUCHIT JERAMBHAI VITHANI\n",
    "## ID : 201701070"
   ]
  },
  {
   "cell_type": "markdown",
   "metadata": {},
   "source": [
    "### Importing libraries"
   ]
  },
  {
   "cell_type": "code",
   "execution_count": 24,
   "metadata": {},
   "outputs": [],
   "source": [
    "import numpy as np\n",
    "import pandas as pd\n",
    "import matplotlib.pyplot as plt\n",
    "import seaborn as sns"
   ]
  },
  {
   "cell_type": "markdown",
   "metadata": {},
   "source": [
    "### Import datasets"
   ]
  },
  {
   "cell_type": "code",
   "execution_count": 25,
   "metadata": {},
   "outputs": [],
   "source": [
    "ex2data = pd.read_excel('ex2data1-logistic.xls')\n",
    "kmeans_data = pd.read_excel('kmeans_data.xlsx')"
   ]
  },
  {
   "cell_type": "markdown",
   "metadata": {},
   "source": [
    "# Explore the dataset\n",
    "\n",
    "Dataset 1 contains a labeled dataset of 2-D points. Each data point has label either 0 or 1. There are total 100 points in this dataset"
   ]
  },
  {
   "cell_type": "code",
   "execution_count": 26,
   "metadata": {},
   "outputs": [
    {
     "data": {
      "text/html": [
       "<div>\n",
       "<style scoped>\n",
       "    .dataframe tbody tr th:only-of-type {\n",
       "        vertical-align: middle;\n",
       "    }\n",
       "\n",
       "    .dataframe tbody tr th {\n",
       "        vertical-align: top;\n",
       "    }\n",
       "\n",
       "    .dataframe thead th {\n",
       "        text-align: right;\n",
       "    }\n",
       "</style>\n",
       "<table border=\"1\" class=\"dataframe\">\n",
       "  <thead>\n",
       "    <tr style=\"text-align: right;\">\n",
       "      <th></th>\n",
       "      <th>x1</th>\n",
       "      <th>x2</th>\n",
       "      <th>y</th>\n",
       "    </tr>\n",
       "  </thead>\n",
       "  <tbody>\n",
       "    <tr>\n",
       "      <th>0</th>\n",
       "      <td>34.623660</td>\n",
       "      <td>78.024693</td>\n",
       "      <td>0</td>\n",
       "    </tr>\n",
       "    <tr>\n",
       "      <th>1</th>\n",
       "      <td>30.286711</td>\n",
       "      <td>43.894998</td>\n",
       "      <td>0</td>\n",
       "    </tr>\n",
       "    <tr>\n",
       "      <th>2</th>\n",
       "      <td>35.847409</td>\n",
       "      <td>72.902198</td>\n",
       "      <td>0</td>\n",
       "    </tr>\n",
       "    <tr>\n",
       "      <th>3</th>\n",
       "      <td>60.182599</td>\n",
       "      <td>86.308552</td>\n",
       "      <td>1</td>\n",
       "    </tr>\n",
       "    <tr>\n",
       "      <th>4</th>\n",
       "      <td>79.032736</td>\n",
       "      <td>75.344376</td>\n",
       "      <td>1</td>\n",
       "    </tr>\n",
       "    <tr>\n",
       "      <th>...</th>\n",
       "      <td>...</td>\n",
       "      <td>...</td>\n",
       "      <td>...</td>\n",
       "    </tr>\n",
       "    <tr>\n",
       "      <th>95</th>\n",
       "      <td>83.489163</td>\n",
       "      <td>48.380286</td>\n",
       "      <td>1</td>\n",
       "    </tr>\n",
       "    <tr>\n",
       "      <th>96</th>\n",
       "      <td>42.261701</td>\n",
       "      <td>87.103851</td>\n",
       "      <td>1</td>\n",
       "    </tr>\n",
       "    <tr>\n",
       "      <th>97</th>\n",
       "      <td>99.315009</td>\n",
       "      <td>68.775409</td>\n",
       "      <td>1</td>\n",
       "    </tr>\n",
       "    <tr>\n",
       "      <th>98</th>\n",
       "      <td>55.340018</td>\n",
       "      <td>64.931938</td>\n",
       "      <td>1</td>\n",
       "    </tr>\n",
       "    <tr>\n",
       "      <th>99</th>\n",
       "      <td>74.775893</td>\n",
       "      <td>89.529813</td>\n",
       "      <td>1</td>\n",
       "    </tr>\n",
       "  </tbody>\n",
       "</table>\n",
       "<p>100 rows × 3 columns</p>\n",
       "</div>"
      ],
      "text/plain": [
       "           x1         x2  y\n",
       "0   34.623660  78.024693  0\n",
       "1   30.286711  43.894998  0\n",
       "2   35.847409  72.902198  0\n",
       "3   60.182599  86.308552  1\n",
       "4   79.032736  75.344376  1\n",
       "..        ...        ... ..\n",
       "95  83.489163  48.380286  1\n",
       "96  42.261701  87.103851  1\n",
       "97  99.315009  68.775409  1\n",
       "98  55.340018  64.931938  1\n",
       "99  74.775893  89.529813  1\n",
       "\n",
       "[100 rows x 3 columns]"
      ]
     },
     "execution_count": 26,
     "metadata": {},
     "output_type": "execute_result"
    }
   ],
   "source": [
    "ex2data"
   ]
  },
  {
   "cell_type": "markdown",
   "metadata": {},
   "source": [
    "Dataset 2 contains an unlabeled points in 2 dimensions. There are total 300 points in this dataset. We can clearly observe the three clusters of data points in this dataset"
   ]
  },
  {
   "cell_type": "code",
   "execution_count": 27,
   "metadata": {},
   "outputs": [
    {
     "data": {
      "text/html": [
       "<div>\n",
       "<style scoped>\n",
       "    .dataframe tbody tr th:only-of-type {\n",
       "        vertical-align: middle;\n",
       "    }\n",
       "\n",
       "    .dataframe tbody tr th {\n",
       "        vertical-align: top;\n",
       "    }\n",
       "\n",
       "    .dataframe thead th {\n",
       "        text-align: right;\n",
       "    }\n",
       "</style>\n",
       "<table border=\"1\" class=\"dataframe\">\n",
       "  <thead>\n",
       "    <tr style=\"text-align: right;\">\n",
       "      <th></th>\n",
       "      <th>x1</th>\n",
       "      <th>x2</th>\n",
       "    </tr>\n",
       "  </thead>\n",
       "  <tbody>\n",
       "    <tr>\n",
       "      <th>0</th>\n",
       "      <td>1.842080</td>\n",
       "      <td>4.607572</td>\n",
       "    </tr>\n",
       "    <tr>\n",
       "      <th>1</th>\n",
       "      <td>5.658583</td>\n",
       "      <td>4.799964</td>\n",
       "    </tr>\n",
       "    <tr>\n",
       "      <th>2</th>\n",
       "      <td>6.352579</td>\n",
       "      <td>3.290854</td>\n",
       "    </tr>\n",
       "    <tr>\n",
       "      <th>3</th>\n",
       "      <td>2.904017</td>\n",
       "      <td>4.612204</td>\n",
       "    </tr>\n",
       "    <tr>\n",
       "      <th>4</th>\n",
       "      <td>3.231979</td>\n",
       "      <td>4.939894</td>\n",
       "    </tr>\n",
       "    <tr>\n",
       "      <th>...</th>\n",
       "      <td>...</td>\n",
       "      <td>...</td>\n",
       "    </tr>\n",
       "    <tr>\n",
       "      <th>295</th>\n",
       "      <td>7.302787</td>\n",
       "      <td>3.380160</td>\n",
       "    </tr>\n",
       "    <tr>\n",
       "      <th>296</th>\n",
       "      <td>6.991984</td>\n",
       "      <td>2.987067</td>\n",
       "    </tr>\n",
       "    <tr>\n",
       "      <th>297</th>\n",
       "      <td>4.825534</td>\n",
       "      <td>2.779617</td>\n",
       "    </tr>\n",
       "    <tr>\n",
       "      <th>298</th>\n",
       "      <td>6.117681</td>\n",
       "      <td>2.854757</td>\n",
       "    </tr>\n",
       "    <tr>\n",
       "      <th>299</th>\n",
       "      <td>0.940489</td>\n",
       "      <td>5.715568</td>\n",
       "    </tr>\n",
       "  </tbody>\n",
       "</table>\n",
       "<p>300 rows × 2 columns</p>\n",
       "</div>"
      ],
      "text/plain": [
       "           x1        x2\n",
       "0    1.842080  4.607572\n",
       "1    5.658583  4.799964\n",
       "2    6.352579  3.290854\n",
       "3    2.904017  4.612204\n",
       "4    3.231979  4.939894\n",
       "..        ...       ...\n",
       "295  7.302787  3.380160\n",
       "296  6.991984  2.987067\n",
       "297  4.825534  2.779617\n",
       "298  6.117681  2.854757\n",
       "299  0.940489  5.715568\n",
       "\n",
       "[300 rows x 2 columns]"
      ]
     },
     "execution_count": 27,
     "metadata": {},
     "output_type": "execute_result"
    }
   ],
   "source": [
    "kmeans_data"
   ]
  },
  {
   "cell_type": "markdown",
   "metadata": {},
   "source": [
    "There are total 60 points with label 1 and 40 points with label 0 in dataset 1."
   ]
  },
  {
   "cell_type": "code",
   "execution_count": 28,
   "metadata": {},
   "outputs": [
    {
     "data": {
      "text/plain": [
       "1    60\n",
       "0    40\n",
       "Name: y, dtype: int64"
      ]
     },
     "execution_count": 28,
     "metadata": {},
     "output_type": "execute_result"
    }
   ],
   "source": [
    "ex2data['y'].value_counts()"
   ]
  },
  {
   "cell_type": "markdown",
   "metadata": {},
   "source": [
    "### Visualise the dataset-1 with labels\n",
    "\n",
    "As can be seen in the plot of dataset 1, we can not clearly identify the clusters in the dataset. We will use elbow method to identify the optimal number of clusters in this dataset"
   ]
  },
  {
   "cell_type": "code",
   "execution_count": 29,
   "metadata": {},
   "outputs": [],
   "source": [
    "ex2data0 = ex2data[ex2data[\"y\"]==0]\n",
    "ex2data1 = ex2data[ex2data[\"y\"]==1]"
   ]
  },
  {
   "cell_type": "code",
   "execution_count": 30,
   "metadata": {},
   "outputs": [
    {
     "data": {
      "text/plain": [
       "<matplotlib.collections.PathCollection at 0x7f0ef8481550>"
      ]
     },
     "execution_count": 30,
     "metadata": {},
     "output_type": "execute_result"
    },
    {
     "data": {
      "image/png": "[encoded data removed]",
      "text/plain": [
       "<Figure size 432x288 with 1 Axes>"
      ]
     },
     "metadata": {
      "needs_background": "light"
     },
     "output_type": "display_data"
    }
   ],
   "source": [
    "plt.scatter(ex2data0[\"x1\"], ex2data0[\"x2\"], color='g')\n",
    "plt.scatter(ex2data1[\"x1\"], ex2data1[\"x2\"], color='b')"
   ]
  },
  {
   "cell_type": "markdown",
   "metadata": {},
   "source": [
    "### Visualise the unlabeled dataset-2\n",
    "\n",
    "We can clearly see that there are three clusters in this dataset. The elbow diagram of this dataset will also show that the ideal number of clusters for this dataset is 3. "
   ]
  },
  {
   "cell_type": "code",
   "execution_count": 33,
   "metadata": {},
   "outputs": [
    {
     "data": {
      "text/plain": [
       "<matplotlib.collections.PathCollection at 0x7f0ef846d1d0>"
      ]
     },
     "execution_count": 33,
     "metadata": {},
     "output_type": "execute_result"
    },
    {
     "data": {
      "image/png": "[encoded data removed]",
      "text/plain": [
       "<Figure size 432x288 with 1 Axes>"
      ]
     },
     "metadata": {
      "needs_background": "light"
     },
     "output_type": "display_data"
    }
   ],
   "source": [
    "plt.scatter(kmeans_data[\"x1\"], kmeans_data[\"x2\"])"
   ]
  },
  {
   "cell_type": "markdown",
   "metadata": {},
   "source": [
    "Converting the dataset into numpy arrays"
   ]
  },
  {
   "cell_type": "code",
   "execution_count": 66,
   "metadata": {},
   "outputs": [],
   "source": [
    "ds1 = np.array([ex2data[\"x1\"], ex2data[\"x2\"]]).transpose()\n",
    "ds2 = np.array([kmeans_data[\"x1\"], kmeans_data[\"x2\"]]).transpose()"
   ]
  },
  {
   "cell_type": "markdown",
   "metadata": {},
   "source": [
    "The details of the functions defined in the following cell are : \n",
    "\n",
    "(1) `distance(x, y)` : Returns the eucledian distance between the points `x` and `y`. <br>\n",
    "(2) `variability(c)` : Returns the variability of points present in cluster `c`. <br>\n",
    "(3) `dissimilarity(C)` : Returns the dissimilarity of set of clusters `C`. (Dissimilarity is nothing but the sum of variabilities of all clusters). <br>\n",
    "(4) `kMeans(k, ds)` : Clusters the dataset `ds`into `k` clusters. Returns the dataset back in the form of clusters."
   ]
  },
  {
   "cell_type": "code",
   "execution_count": 215,
   "metadata": {},
   "outputs": [],
   "source": [
    "def distance(x, y):\n",
    "    return np.linalg.norm(x-y)\n",
    "\n",
    "def variability(c):\n",
    "    mean = c.mean(axis=0)\n",
    "    variability=0\n",
    "    for i in range(len(c)):\n",
    "        variability += distance(mean, c[i])\n",
    "    return variability\n",
    "\n",
    "def dissimilarity(C):\n",
    "    diss = 0\n",
    "    for cluster in C:\n",
    "        diss += variability(C[cluster])\n",
    "    return diss\n",
    "\n",
    "def kMeans(k, ds):\n",
    "    n = len(ds)\n",
    "    m1 = ds.max(axis=0)\n",
    "    m2 = ds.min(axis=0)\n",
    "    \n",
    "    # set of clusters\n",
    "    centroids = { i+1 : np.random.uniform(m2, m1) for i in range(k)}\n",
    "    centroids_changed = True\n",
    "    while centroids_changed:\n",
    "        C = {}\n",
    "        for point in ds:\n",
    "            mn = 1e6\n",
    "            for center in centroids:\n",
    "                dis = distance(centroids[center], point)\n",
    "                if(dis < mn):\n",
    "                    mn = dis\n",
    "                    mn_centroid = center\n",
    "            assert(mn_centroid)\n",
    "            if mn_centroid in C:\n",
    "                C[mn_centroid] = np.vstack((C[mn_centroid], point))\n",
    "            else:\n",
    "                C[mn_centroid] = point\n",
    "        flag = 0\n",
    "        for i in range(1,k+1):\n",
    "            if i not in C:\n",
    "                return kMeans(k, ds)\n",
    "            new_centroid = np.mean(C[i], axis=0)\n",
    "            if((new_centroid != centroids[i]).any()):\n",
    "                flag=1\n",
    "            centroids[i] = new_centroid\n",
    "        centroids_changed = flag\n",
    "    return C"
   ]
  },
  {
   "cell_type": "markdown",
   "metadata": {},
   "source": [
    "Since the initial clusters are selected at random, and the clustering algorithm is not deterministic, we perform several trials and select the best set of clusters from these trials. In the following part, we select `K` (the number of clusters) in the range of 1 to 10, and obtain the optimal clusters for each of these values of the k. Then we calculate the dissimilarity associated with each value of `k`, and its corresponding set of clusters. \n",
    "\n",
    "Then we plot these dissimilarity values against k and obtain the elbow diagram. From the elbow diagram, we can select the optimal number of clusters. The elbow diagram looks like a hand, the optimal number of clusters is the number corresponding th elbow part of this hand.\n",
    "\n",
    "**NOTE : Since the dataset-1 is not properly clustered, we can not observe the clear elbow in dataset-1 as in dataset-2 (which is clustered in to 3 clusters)**"
   ]
  },
  {
   "cell_type": "code",
   "execution_count": 242,
   "metadata": {},
   "outputs": [],
   "source": [
    "trials = 10\n",
    "k_range = 10\n",
    "\n",
    "distortions = []\n",
    "for k in range(1, k_range+1):\n",
    "    best = kMeans(k, ds1)\n",
    "    dis = dissimilarity(best)\n",
    "    for i in range(trials):\n",
    "        exp = kMeans(k, ds1)\n",
    "        dis_exp = dissimilarity(exp)\n",
    "        \n",
    "        if(dis_exp < dis):\n",
    "            best = exp\n",
    "            dis = dis_exp\n",
    "    distortions.append(dis)\n",
    "\n",
    "# plt.plot(range(1, 10), distortions, 'bx-')\n",
    "    "
   ]
  },
  {
   "cell_type": "markdown",
   "metadata": {},
   "source": [
    "As we can see, the decrease in the dissimilarity value is relatively low after `K=5`. Hence we select the number of clusters as 5. "
   ]
  },
  {
   "cell_type": "code",
   "execution_count": 243,
   "metadata": {},
   "outputs": [
    {
     "data": {
      "text/plain": [
       "Text(0, 0.5, 'Dissimilarity in clusters')"
      ]
     },
     "execution_count": 243,
     "metadata": {},
     "output_type": "execute_result"
    },
    {
     "data": {
      "image/png": "[encoded data removed]",
      "text/plain": [
       "<Figure size 432x288 with 1 Axes>"
      ]
     },
     "metadata": {
      "needs_background": "light"
     },
     "output_type": "display_data"
    }
   ],
   "source": [
    "plt.plot(range(1,11), distortions)\n",
    "plt.xlabel(\"K\")\n",
    "plt.ylabel(\"Dissimilarity in clusters\")"
   ]
  },
  {
   "cell_type": "markdown",
   "metadata": {},
   "source": [
    "## Plot for clustering with `K=5` for dataset-1. "
   ]
  },
  {
   "cell_type": "code",
   "execution_count": 260,
   "metadata": {},
   "outputs": [
    {
     "data": {
      "image/png": "[encoded data removed]",
      "text/plain": [
       "<Figure size 432x288 with 1 Axes>"
      ]
     },
     "metadata": {
      "needs_background": "light"
     },
     "output_type": "display_data"
    },
    {
     "data": {
      "image/png": "[encoded data removed]",
      "text/plain": [
       "<Figure size 432x288 with 1 Axes>"
      ]
     },
     "metadata": {
      "needs_background": "light"
     },
     "output_type": "display_data"
    }
   ],
   "source": [
    "K = 5\n",
    "clusters = kMeans(K, ds1)\n",
    "\n",
    "plt.figure(1)\n",
    "plt.scatter(ds1.transpose()[0], ds1.transpose()[1], color='k')\n",
    "\n",
    "plt.figure(2)\n",
    "color_map = {1: 'r', 2:'g', 3:'b', 4:'m', 5:'y'}\n",
    "for cluster in clusters:\n",
    "    c = clusters[cluster].transpose()\n",
    "    plt.scatter(c[0], c[1], color=color_map[cluster])\n",
    "    \n"
   ]
  },
  {
   "cell_type": "markdown",
   "metadata": {},
   "source": [
    "As we can see in the plot below, the elbow part of the hand clearly corresponds the `K=3`. Which is also apparent from the visualisation of dataset-2. (since it is clearly clustered in to 3 clusters)."
   ]
  },
  {
   "cell_type": "code",
   "execution_count": 254,
   "metadata": {},
   "outputs": [],
   "source": [
    "trials = 10\n",
    "k_range = 10\n",
    "\n",
    "distortions = []\n",
    "for k in range(1, k_range+1):\n",
    "    best = kMeans(k, ds2)\n",
    "    dis = dissimilarity(best)\n",
    "    for i in range(trials):\n",
    "        exp = kMeans(k, ds2)\n",
    "        dis_exp = dissimilarity(exp)\n",
    "        \n",
    "        if(dis_exp < dis):\n",
    "            best = exp\n",
    "            dis = dis_exp\n",
    "    distortions.append(dis)"
   ]
  },
  {
   "cell_type": "code",
   "execution_count": 255,
   "metadata": {},
   "outputs": [
    {
     "data": {
      "text/plain": [
       "Text(0, 0.5, 'Dissimilarity in clusters')"
      ]
     },
     "execution_count": 255,
     "metadata": {},
     "output_type": "execute_result"
    },
    {
     "data": {
      "image/png": "[encoded data removed]",
      "text/plain": [
       "<Figure size 432x288 with 1 Axes>"
      ]
     },
     "metadata": {
      "needs_background": "light"
     },
     "output_type": "display_data"
    }
   ],
   "source": [
    "plt.plot(range(1,11), distortions)\n",
    "plt.xlabel(\"K\")\n",
    "plt.ylabel(\"Dissimilarity in clusters\")"
   ]
  },
  {
   "cell_type": "markdown",
   "metadata": {},
   "source": [
    "## Plot for clustering with `K=3` for dataset-2."
   ]
  },
  {
   "cell_type": "code",
   "execution_count": 258,
   "metadata": {},
   "outputs": [
    {
     "data": {
      "image/png": "[encoded data removed]",
      "text/plain": [
       "<Figure size 432x288 with 1 Axes>"
      ]
     },
     "metadata": {
      "needs_background": "light"
     },
     "output_type": "display_data"
    },
    {
     "data": {
      "image/png": "[encoded data removed]",
      "text/plain": [
       "<Figure size 432x288 with 1 Axes>"
      ]
     },
     "metadata": {
      "needs_background": "light"
     },
     "output_type": "display_data"
    }
   ],
   "source": [
    "K = 3\n",
    "clusters = kMeans(K, ds2)\n",
    "\n",
    "plt.figure(1)\n",
    "plt.scatter(ds2.transpose()[0], ds2.transpose()[1], color='k')\n",
    "\n",
    "plt.figure(2)\n",
    "color_map = {1: 'r', 2:'g', 3:'b', 4:'m', 5:'y'}\n",
    "for cluster in clusters:\n",
    "    c = clusters[cluster].transpose()\n",
    "    plt.scatter(c[0], c[1], color=color_map[cluster])"
   ]
  }
 ],
 "metadata": {
  "kernelspec": {
   "display_name": "Python 3",
   "language": "python",
   "name": "python3"
  },
  "language_info": {
   "codemirror_mode": {
    "name": "ipython",
    "version": 3
   },
   "file_extension": ".py",
   "mimetype": "text/x-python",
   "name": "python",
   "nbconvert_exporter": "python",
   "pygments_lexer": "ipython3",
   "version": "3.7.4"
  }
 },
 "nbformat": 4,
 "nbformat_minor": 2
}
